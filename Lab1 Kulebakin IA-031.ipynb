{
 "cells": [
  {
   "cell_type": "markdown",
   "id": "28a1d309",
   "metadata": {},
   "source": [
    "# Создание мелодий на Pyton\n",
    "*Кулебакин Е.Д. ИА-031 - 2022, e-mail: geka_kule@mail.ru, github.com: https://github.com/Jencik4*"
   ]
  },
  {
   "cell_type": "code",
   "execution_count": 1,
   "id": "d1268f1b",
   "metadata": {},
   "outputs": [],
   "source": [
    "import numpy as np\n",
    "import sounddevice as sd\n",
    "\n",
    "duration = 0.3\n",
    "fs = 44000\n",
    "amplitude = 0.4  \n",
    "\n",
    "timeSamples = np.arange(np.ceil(duration * fs)) / fs\n",
    "\n",
    "A = amplitude * np.sin(2 * np.pi * 220 * timeSamples)\n",
    "C = amplitude * np.sin(2 * np.pi * 261.63 * timeSamples)\n",
    "D = amplitude * np.sin(2 * np.pi * 293.66 * timeSamples)\n",
    "E = amplitude * np.sin(2 * np.pi * 329.63 * timeSamples)\n",
    "F = amplitude * np.sin(2 * np.pi * 349.23 * timeSamples)\n",
    "G = amplitude * np.sin(2 * np.pi * 392.00 * timeSamples)\n",
    "A1 = amplitude * np.sin(2 * np.pi * 440 * timeSamples)\n",
    "A_ = amplitude * np.sin(2 * np.pi * 466.16 * timeSamples)\n",
    "\n",
    "part1 = np.concatenate((A,C,D,D,D,E,F,F))\n",
    "part2 = np.concatenate((F,G,E,E,D,C,C,D))\n",
    "part3 = np.concatenate((F,G,E,E,D,C,D))\n",
    "part4 = np.concatenate((A,C,D,D,D,F,G,G))\n",
    "part5 = np.concatenate((G,A1,A_,A_,A1,G,A1))\n",
    "part6 = np.concatenate((D,D,E,F,F,G,A1,D))\n",
    "part7 = np.concatenate((D,F,E,E,F,D,E))\n",
    "fullMelody = np.concatenate((part1,part2,part1,part3,part4,part5,part6,part7))\n",
    "\n",
    "sd.play(fullMelody, fs, None,1)\n",
    "\n"
   ]
  },
  {
   "cell_type": "code",
   "execution_count": null,
   "id": "d0949433",
   "metadata": {},
   "outputs": [],
   "source": []
  }
 ],
 "metadata": {
  "kernelspec": {
   "display_name": "Python 3 (ipykernel)",
   "language": "python",
   "name": "python3"
  },
  "language_info": {
   "codemirror_mode": {
    "name": "ipython",
    "version": 3
   },
   "file_extension": ".py",
   "mimetype": "text/x-python",
   "name": "python",
   "nbconvert_exporter": "python",
   "pygments_lexer": "ipython3",
   "version": "3.9.7"
  }
 },
 "nbformat": 4,
 "nbformat_minor": 5
}
